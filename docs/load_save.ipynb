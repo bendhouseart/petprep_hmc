{
 "cells": [
  {
   "cell_type": "code",
   "execution_count": 4,
   "id": "1877f06c-ed81-40b8-b754-6f05fd6cad7b",
   "metadata": {},
   "outputs": [],
   "source": [
    "import os\n",
    "import re\n",
    "import os.path as op\n",
    "import pandas as pd\n",
    "from collections import defaultdict\n",
    "import logging\n",
    "from typing import Optional, Union\n",
    "\n",
    "from bids import BIDSLayout\n",
    "import numpy as np\n",
    "from pathlib import Path\n",
    "\n",
    "from pandas import read_csv\n",
    "from nibabel import loadsave\n",
    "from bids.layout import parse_file_entities\n",
    "from bids.layout.writing import build_path"
   ]
  },
  {
   "cell_type": "code",
   "execution_count": 2,
   "id": "53af7501-f481-4143-a0d7-850ac033b276",
   "metadata": {},
   "outputs": [],
   "source": [
    "def get_func_filenames_bids(\n",
    "    paths_to_func_dir: str,\n",
    "    task_filter: Optional[list] = None,\n",
    "    ses_filter: Optional[list] = None,\n",
    "    run_filter: Optional[list] = None,\n",
    ") -> tuple[list[list[str]], list[float]]:\n",
    "    \"\"\"Return the BIDS functional imaging files matching the specified task and session\n",
    "    filters as well as the first (if multiple) unique repetition time (TR).\n",
    "    Parameters\n",
    "    ----------\n",
    "    paths_to_func_dir : str\n",
    "        Path to the BIDS (usually derivatives) directory\n",
    "    task_filter : list, optional\n",
    "        List of task name(s) to consider, by default `None`\n",
    "    ses_filter : list, optional\n",
    "        List of session name(s) to consider, by default `None`\n",
    "    run_filter : list, optional\n",
    "        List of run(s) to consider, by default `None`\n",
    "    Returns\n",
    "    -------\n",
    "    tuple[list[list[str]], list[float]]\n",
    "        Returns two lists with: a list of sorted filenames and a list of TRs.\n",
    "    \"\"\"\n",
    "    logging.debug(\"Using BIDS to find functional files...\")\n",
    "\n",
    "    layout = BIDSLayout(\n",
    "        paths_to_func_dir,\n",
    "        validate=False,\n",
    "    )\n",
    "\n",
    "    all_derivatives = layout.get(\n",
    "        scope=\"all\",\n",
    "        return_type=\"file\",\n",
    "        extension=[\"nii.gz\", \"gz\"],\n",
    "        suffix=\"pet\",\n",
    "        task=task_filter or [],\n",
    "        session=ses_filter or [],\n",
    "        run=run_filter or [],\n",
    "    )\n",
    "\n",
    "    if not all_derivatives:\n",
    "        raise ValueError(\n",
    "            f\"No functional derivatives were found under {paths_to_func_dir} with the following filters:\"\n",
    "            f\"\\nExtension: ['nii.gz', 'gz']\"\n",
    "            f\"\\nSuffix: bold\"\n",
    "            f\"\\nTask: {task_filter or []}\"\n",
    "            f\"\\nSession: {ses_filter or []}\"\n",
    "            f\"\\nRun: {run_filter or []}\"\n",
    "        )\n",
    "\n",
    "    affines = []\n",
    "    for file in all_derivatives:\n",
    "        affines.append(loadsave.load(file).affine)\n",
    "\n",
    "    similar_fov_dict = separate_by_similar_values(\n",
    "        all_derivatives, np.array(affines)[:, 0, 0]\n",
    "    )\n",
    "    if len(similar_fov_dict) > 1:\n",
    "        logging.warning(\n",
    "            f\"{len(similar_fov_dict)} different FoV found ! \"\n",
    "            \"Files with similar FoV will be computed together. \"\n",
    "            \"Computation time may increase.\"\n",
    "        )\n",
    "\n",
    "    separated_files = []\n",
    "    separated_trs = []\n",
    "    for file_group in similar_fov_dict.values():\n",
    "        t_rs = []\n",
    "        for file in file_group:\n",
    "            t_rs.append(layout.get_metadata(file)[\"RepetitionTime\"])\n",
    "\n",
    "        similar_tr_dict = separate_by_similar_values(file_group, t_rs)\n",
    "        separated_files += list(similar_tr_dict.values())\n",
    "        separated_trs += list(similar_tr_dict.keys())\n",
    "\n",
    "        if len(similar_tr_dict) > 1:\n",
    "            logging.warning(\n",
    "                \"Multiple TR values found ! \"\n",
    "                \"Files with similar TR will be computed together. \"\n",
    "                \"Computation time may increase.\"\n",
    "            )\n",
    "\n",
    "    return separated_files, separated_trs"
   ]
  },
  {
   "cell_type": "code",
   "execution_count": 20,
   "id": "4a742742-ad5b-4582-a521-a13eb59ed212",
   "metadata": {},
   "outputs": [],
   "source": [
    "bids_dir = Path('/Users/martinnorgaard/Documents/GitHub/petprep_hmc/data')\n",
    "\n",
    "layout = BIDSLayout(bids_dir, derivatives=True)"
   ]
  },
  {
   "cell_type": "code",
   "execution_count": 23,
   "id": "d01a139a-bfd7-46d1-b487-e619cbf5ce9d",
   "metadata": {},
   "outputs": [
    {
     "data": {
      "text/plain": [
       "{'petprep_hmc': BIDS Layout: ...c/data/derivatives/petprep_hmc | Subjects: 2 | Sessions: 3 | Runs: 2}"
      ]
     },
     "execution_count": 23,
     "metadata": {},
     "output_type": "execute_result"
    }
   ],
   "source": [
    "layout.derivatives"
   ]
  },
  {
   "cell_type": "code",
   "execution_count": 31,
   "id": "2d65d355-9c47-4e2f-a4c5-ff85dfb25e09",
   "metadata": {},
   "outputs": [],
   "source": [
    "all_files = layout.get(subject='01', return_type='filename')"
   ]
  },
  {
   "cell_type": "code",
   "execution_count": 32,
   "id": "34873fda-6f63-494a-9161-80049a4ad821",
   "metadata": {},
   "outputs": [
    {
     "data": {
      "text/plain": [
       "['/Users/martinnorgaard/Documents/GitHub/petprep_hmc/data/derivatives/petprep_hmc/sub-01/ses-baseline/sub-01_ses-baseline_desc-confounds_timeseries.tsv',\n",
       " '/Users/martinnorgaard/Documents/GitHub/petprep_hmc/data/derivatives/petprep_hmc/sub-01/ses-baseline/sub-01_ses-baseline_desc-mc_pet.json',\n",
       " '/Users/martinnorgaard/Documents/GitHub/petprep_hmc/data/derivatives/petprep_hmc/sub-01/ses-baseline/sub-01_ses-baseline_desc-mc_pet.nii.gz',\n",
       " '/Users/martinnorgaard/Documents/GitHub/petprep_hmc/data/derivatives/petprep_hmc/sub-01/ses-baseline/sub-01_ses-baseline_desc-with_motion_correction.gif',\n",
       " '/Users/martinnorgaard/Documents/GitHub/petprep_hmc/data/derivatives/petprep_hmc/sub-01/ses-baseline/sub-01_ses-baseline_desc-without_motion_correction.gif',\n",
       " '/Users/martinnorgaard/Documents/GitHub/petprep_hmc/data/derivatives/petprep_hmc/sub-01/ses-baseline/sub-01_ses-baseline_movement.png',\n",
       " '/Users/martinnorgaard/Documents/GitHub/petprep_hmc/data/derivatives/petprep_hmc/sub-01/ses-baseline/sub-01_ses-baseline_rotation.png',\n",
       " '/Users/martinnorgaard/Documents/GitHub/petprep_hmc/data/derivatives/petprep_hmc/sub-01/ses-baseline/sub-01_ses-baseline_translation.png',\n",
       " '/Users/martinnorgaard/Documents/GitHub/petprep_hmc/data/derivatives/petprep_hmc/sub-01/ses-rescan/sub-01_ses-rescan_run-01_desc-confounds_timeseries.tsv',\n",
       " '/Users/martinnorgaard/Documents/GitHub/petprep_hmc/data/derivatives/petprep_hmc/sub-01/ses-rescan/sub-01_ses-rescan_run-01_desc-mc_pet.json',\n",
       " '/Users/martinnorgaard/Documents/GitHub/petprep_hmc/data/derivatives/petprep_hmc/sub-01/ses-rescan/sub-01_ses-rescan_run-01_desc-mc_pet.nii.gz',\n",
       " '/Users/martinnorgaard/Documents/GitHub/petprep_hmc/data/derivatives/petprep_hmc/sub-01/ses-rescan/sub-01_ses-rescan_run-01_desc-with_motion_correction.gif',\n",
       " '/Users/martinnorgaard/Documents/GitHub/petprep_hmc/data/derivatives/petprep_hmc/sub-01/ses-rescan/sub-01_ses-rescan_run-01_desc-without_motion_correction.gif',\n",
       " '/Users/martinnorgaard/Documents/GitHub/petprep_hmc/data/derivatives/petprep_hmc/sub-01/ses-rescan/sub-01_ses-rescan_run-01_movement.png',\n",
       " '/Users/martinnorgaard/Documents/GitHub/petprep_hmc/data/derivatives/petprep_hmc/sub-01/ses-rescan/sub-01_ses-rescan_run-01_rotation.png',\n",
       " '/Users/martinnorgaard/Documents/GitHub/petprep_hmc/data/derivatives/petprep_hmc/sub-01/ses-rescan/sub-01_ses-rescan_run-01_translation.png',\n",
       " '/Users/martinnorgaard/Documents/GitHub/petprep_hmc/data/derivatives/petprep_hmc/sub-01/ses-rescan/sub-01_ses-rescan_run-02_desc-confounds_timeseries.tsv',\n",
       " '/Users/martinnorgaard/Documents/GitHub/petprep_hmc/data/derivatives/petprep_hmc/sub-01/ses-rescan/sub-01_ses-rescan_run-02_desc-mc_pet.json',\n",
       " '/Users/martinnorgaard/Documents/GitHub/petprep_hmc/data/derivatives/petprep_hmc/sub-01/ses-rescan/sub-01_ses-rescan_run-02_desc-mc_pet.nii.gz',\n",
       " '/Users/martinnorgaard/Documents/GitHub/petprep_hmc/data/derivatives/petprep_hmc/sub-01/ses-rescan/sub-01_ses-rescan_run-02_desc-with_motion_correction.gif',\n",
       " '/Users/martinnorgaard/Documents/GitHub/petprep_hmc/data/derivatives/petprep_hmc/sub-01/ses-rescan/sub-01_ses-rescan_run-02_desc-without_motion_correction.gif',\n",
       " '/Users/martinnorgaard/Documents/GitHub/petprep_hmc/data/derivatives/petprep_hmc/sub-01/ses-rescan/sub-01_ses-rescan_run-02_movement.png',\n",
       " '/Users/martinnorgaard/Documents/GitHub/petprep_hmc/data/derivatives/petprep_hmc/sub-01/ses-rescan/sub-01_ses-rescan_run-02_rotation.png',\n",
       " '/Users/martinnorgaard/Documents/GitHub/petprep_hmc/data/derivatives/petprep_hmc/sub-01/ses-rescan/sub-01_ses-rescan_run-02_translation.png',\n",
       " '/Users/martinnorgaard/Documents/GitHub/petprep_hmc/data/sub-01/ses-baseline/pet/sub-01_ses-baseline_pet.json',\n",
       " '/Users/martinnorgaard/Documents/GitHub/petprep_hmc/data/sub-01/ses-baseline/pet/sub-01_ses-baseline_pet.nii.gz',\n",
       " '/Users/martinnorgaard/Documents/GitHub/petprep_hmc/data/sub-01/ses-rescan/pet/sub-01_ses-rescan_run-01_pet.json',\n",
       " '/Users/martinnorgaard/Documents/GitHub/petprep_hmc/data/sub-01/ses-rescan/pet/sub-01_ses-rescan_run-01_pet.nii.gz',\n",
       " '/Users/martinnorgaard/Documents/GitHub/petprep_hmc/data/sub-01/ses-rescan/pet/sub-01_ses-rescan_run-02_pet.json',\n",
       " '/Users/martinnorgaard/Documents/GitHub/petprep_hmc/data/sub-01/ses-rescan/pet/sub-01_ses-rescan_run-02_pet.nii.gz']"
      ]
     },
     "execution_count": 32,
     "metadata": {},
     "output_type": "execute_result"
    }
   ],
   "source": [
    "all_files"
   ]
  },
  {
   "cell_type": "code",
   "execution_count": 14,
   "id": "ef77a8c7-3be6-4728-8571-1a2c3f099136",
   "metadata": {},
   "outputs": [
    {
     "data": {
      "text/plain": [
       "\u001b[0;31mInit signature:\u001b[0m\n",
       "\u001b[0mBIDSLayout\u001b[0m\u001b[0;34m(\u001b[0m\u001b[0;34m\u001b[0m\n",
       "\u001b[0;34m\u001b[0m    \u001b[0mroot\u001b[0m\u001b[0;34m=\u001b[0m\u001b[0;32mNone\u001b[0m\u001b[0;34m,\u001b[0m\u001b[0;34m\u001b[0m\n",
       "\u001b[0;34m\u001b[0m    \u001b[0mvalidate\u001b[0m\u001b[0;34m=\u001b[0m\u001b[0;32mTrue\u001b[0m\u001b[0;34m,\u001b[0m\u001b[0;34m\u001b[0m\n",
       "\u001b[0;34m\u001b[0m    \u001b[0mabsolute_paths\u001b[0m\u001b[0;34m=\u001b[0m\u001b[0;32mTrue\u001b[0m\u001b[0;34m,\u001b[0m\u001b[0;34m\u001b[0m\n",
       "\u001b[0;34m\u001b[0m    \u001b[0mderivatives\u001b[0m\u001b[0;34m=\u001b[0m\u001b[0;32mFalse\u001b[0m\u001b[0;34m,\u001b[0m\u001b[0;34m\u001b[0m\n",
       "\u001b[0;34m\u001b[0m    \u001b[0mconfig\u001b[0m\u001b[0;34m=\u001b[0m\u001b[0;32mNone\u001b[0m\u001b[0;34m,\u001b[0m\u001b[0;34m\u001b[0m\n",
       "\u001b[0;34m\u001b[0m    \u001b[0msources\u001b[0m\u001b[0;34m=\u001b[0m\u001b[0;32mNone\u001b[0m\u001b[0;34m,\u001b[0m\u001b[0;34m\u001b[0m\n",
       "\u001b[0;34m\u001b[0m    \u001b[0mregex_search\u001b[0m\u001b[0;34m=\u001b[0m\u001b[0;32mFalse\u001b[0m\u001b[0;34m,\u001b[0m\u001b[0;34m\u001b[0m\n",
       "\u001b[0;34m\u001b[0m    \u001b[0mdatabase_path\u001b[0m\u001b[0;34m=\u001b[0m\u001b[0;32mNone\u001b[0m\u001b[0;34m,\u001b[0m\u001b[0;34m\u001b[0m\n",
       "\u001b[0;34m\u001b[0m    \u001b[0mreset_database\u001b[0m\u001b[0;34m=\u001b[0m\u001b[0;32mFalse\u001b[0m\u001b[0;34m,\u001b[0m\u001b[0;34m\u001b[0m\n",
       "\u001b[0;34m\u001b[0m    \u001b[0mindexer\u001b[0m\u001b[0;34m=\u001b[0m\u001b[0;32mNone\u001b[0m\u001b[0;34m,\u001b[0m\u001b[0;34m\u001b[0m\n",
       "\u001b[0;34m\u001b[0m    \u001b[0;34m**\u001b[0m\u001b[0mindexer_kwargs\u001b[0m\u001b[0;34m,\u001b[0m\u001b[0;34m\u001b[0m\n",
       "\u001b[0;34m\u001b[0m\u001b[0;34m)\u001b[0m\u001b[0;34m\u001b[0m\u001b[0;34m\u001b[0m\u001b[0m\n",
       "\u001b[0;31mDocstring:\u001b[0m     \n",
       "Layout class representing an entire BIDS dataset.\n",
       "\n",
       "Parameters\n",
       "----------\n",
       "root : str\n",
       "    The root directory of the BIDS dataset.\n",
       "validate : bool, optional\n",
       "    If True, all files are checked for BIDS compliance when first indexed,\n",
       "    and non-compliant files are ignored. This provides a convenient way to\n",
       "    restrict file indexing to only those files defined in the \"core\" BIDS\n",
       "    spec, as setting validate=True will lead files in supplementary folders\n",
       "    like derivatives/, code/, etc. to be ignored.\n",
       "absolute_paths : bool, optional\n",
       "    If True, queries always return absolute paths.\n",
       "    If False, queries return relative paths (for files and\n",
       "    directories).\n",
       "derivatives : bool or str or list, optional\n",
       "    Specifies whether and/or which\n",
       "    derivatives to index. If True, all pipelines found in the\n",
       "    derivatives/ subdirectory will be indexed. If a str or list, gives\n",
       "    the paths to one or more derivatives directories to index. If False\n",
       "    or None, the derivatives/ directory is ignored during indexing, and\n",
       "    derivatives will have to be added manually via add_derivatives().\n",
       "    Note: derivatives datasets MUST contain a dataset_description.json\n",
       "    file in order to be indexed.\n",
       "config : str or list or None, optional\n",
       "    Optional name(s) of configuration file(s) to use.\n",
       "    By default (None), uses 'bids'.\n",
       "sources : :obj:`bids.layout.BIDSLayout` or list or None, optional\n",
       "    Optional BIDSLayout(s) from which the current BIDSLayout is derived.\n",
       "config_filename : str\n",
       "    Optional name of filename within directories\n",
       "    that contains configuration information.\n",
       "regex_search : bool\n",
       "    Whether to require exact matching (True) or regex\n",
       "    search (False, default) when comparing the query string to each\n",
       "    entity in .get() calls. This sets a default for the instance, but\n",
       "    can be overridden in individual .get() requests.\n",
       "database_path : str\n",
       "    Optional path to directory containing SQLite database file index\n",
       "    for this BIDS dataset. If a value is passed and the folder\n",
       "    already exists, indexing is skipped. By default (i.e., if None),\n",
       "    an in-memory SQLite database is used, and the index will not\n",
       "    persist unless .save() is explicitly called.\n",
       "reset_database : bool\n",
       "    If True, any existing directory specified in the\n",
       "    database_path argument is deleted, and the BIDS dataset provided\n",
       "    in the root argument is reindexed. If False, indexing will be\n",
       "    skipped and the existing database file will be used. Ignored if\n",
       "    database_path is not provided.\n",
       "indexer: BIDSLayoutIndexer or callable\n",
       "    An optional BIDSLayoutIndexer instance to use for indexing, or any\n",
       "    callable that takes a BIDSLayout instance as its only argument. If\n",
       "    None, a new indexer with default parameters will be implicitly created.\n",
       "indexer_kwargs: dict\n",
       "    Optional keyword arguments to pass onto the newly created\n",
       "    BIDSLayoutIndexer. Valid keywords are 'ignore', 'force_index',\n",
       "    'index_metadata', and 'config_filename'. Ignored if indexer is not\n",
       "    None.\n",
       "\u001b[0;31mFile:\u001b[0m           ~/anaconda3/envs/petprep_Hmc/lib/python3.9/site-packages/bids/layout/layout.py\n",
       "\u001b[0;31mType:\u001b[0m           type\n",
       "\u001b[0;31mSubclasses:\u001b[0m     "
      ]
     },
     "metadata": {},
     "output_type": "display_data"
    }
   ],
   "source": [
    "BIDSLayout?"
   ]
  },
  {
   "cell_type": "code",
   "execution_count": null,
   "id": "bb163905-77b7-425a-a1de-0da668029c1c",
   "metadata": {},
   "outputs": [],
   "source": []
  }
 ],
 "metadata": {
  "kernelspec": {
   "display_name": "Python 3 (ipykernel)",
   "language": "python",
   "name": "python3"
  },
  "language_info": {
   "codemirror_mode": {
    "name": "ipython",
    "version": 3
   },
   "file_extension": ".py",
   "mimetype": "text/x-python",
   "name": "python",
   "nbconvert_exporter": "python",
   "pygments_lexer": "ipython3",
   "version": "3.9.19"
  }
 },
 "nbformat": 4,
 "nbformat_minor": 5
}
